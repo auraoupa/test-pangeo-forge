{
 "cells": [
  {
   "cell_type": "code",
   "execution_count": 1,
   "id": "6a7ca031",
   "metadata": {},
   "outputs": [],
   "source": [
    "import pandas as pd\n",
    "import xarray as xr\n"
   ]
  },
  {
   "cell_type": "code",
   "execution_count": 2,
   "id": "4d67293f",
   "metadata": {},
   "outputs": [],
   "source": [
    "from pangeo_forge_recipes.patterns import ConcatDim, FilePattern\n",
    "from pangeo_forge_recipes.recipes import XarrayZarrRecipe,setup_logging\n"
   ]
  },
  {
   "cell_type": "code",
   "execution_count": 3,
   "id": "97b7fae2",
   "metadata": {},
   "outputs": [],
   "source": [
    "dates = pd.date_range('2009-07-01', '2010-06-30', freq='D')"
   ]
  },
  {
   "cell_type": "code",
   "execution_count": 4,
   "id": "88d6f512",
   "metadata": {},
   "outputs": [
    {
     "data": {
      "text/plain": [
       "DatetimeIndex(['2009-07-01', '2009-07-02', '2009-07-03', '2009-07-04',\n",
       "               '2009-07-05', '2009-07-06', '2009-07-07', '2009-07-08',\n",
       "               '2009-07-09', '2009-07-10',\n",
       "               ...\n",
       "               '2010-06-21', '2010-06-22', '2010-06-23', '2010-06-24',\n",
       "               '2010-06-25', '2010-06-26', '2010-06-27', '2010-06-28',\n",
       "               '2010-06-29', '2010-06-30'],\n",
       "              dtype='datetime64[ns]', length=365, freq='D')"
      ]
     },
     "execution_count": 4,
     "metadata": {},
     "output_type": "execute_result"
    }
   ],
   "source": [
    "dates"
   ]
  },
  {
   "cell_type": "code",
   "execution_count": 5,
   "id": "f6f75cb9",
   "metadata": {},
   "outputs": [],
   "source": [
    "URL_FORMAT = (\n",
    "    \"https://ige-meom-opendap.univ-grenoble-alpes.fr/thredds/fileServer/meomopendap/extract/\"\n",
    "    \"eNATL60/eNATL60-BLBT02/1d/eNATL60-BLBT02_y{time:%Y}m{time:%m}d{time:%d}.1d_somxl010.nc\"\n",
    ")\n",
    "\n"
   ]
  },
  {
   "cell_type": "code",
   "execution_count": 6,
   "id": "43401d53",
   "metadata": {},
   "outputs": [],
   "source": [
    "def make_url(time):\n",
    "    return URL_FORMAT.format(time=time)\n",
    "\n"
   ]
  },
  {
   "cell_type": "code",
   "execution_count": 7,
   "id": "badccee2",
   "metadata": {},
   "outputs": [],
   "source": [
    "truc=make_url(dates[0])"
   ]
  },
  {
   "cell_type": "code",
   "execution_count": 8,
   "id": "03d2f631",
   "metadata": {},
   "outputs": [
    {
     "data": {
      "text/plain": [
       "ConcatDim(name='time', nitems_per_file=1)"
      ]
     },
     "execution_count": 8,
     "metadata": {},
     "output_type": "execute_result"
    }
   ],
   "source": [
    "time_concat_dim = ConcatDim(\"time\", dates, nitems_per_file=1)\n",
    "time_concat_dim"
   ]
  },
  {
   "cell_type": "code",
   "execution_count": 9,
   "id": "be717802",
   "metadata": {},
   "outputs": [
    {
     "data": {
      "text/plain": [
       "<FilePattern {'time': 365}>"
      ]
     },
     "execution_count": 9,
     "metadata": {},
     "output_type": "execute_result"
    }
   ],
   "source": [
    "pattern = FilePattern(make_url, time_concat_dim)\n",
    "pattern"
   ]
  },
  {
   "cell_type": "code",
   "execution_count": 10,
   "id": "5a384191",
   "metadata": {},
   "outputs": [
    {
     "name": "stdout",
     "output_type": "stream",
     "text": [
      "Index({DimIndex(name='time', index=0, sequence_len=365, operation=<CombineOp.CONCAT: 2>)})\n",
      "https://ige-meom-opendap.univ-grenoble-alpes.fr/thredds/fileServer/meomopendap/extract/eNATL60/eNATL60-BLBT02/1d/eNATL60-BLBT02_y2009m07d01.1d_somxl010.nc\n",
      "Index({DimIndex(name='time', index=1, sequence_len=365, operation=<CombineOp.CONCAT: 2>)})\n",
      "https://ige-meom-opendap.univ-grenoble-alpes.fr/thredds/fileServer/meomopendap/extract/eNATL60/eNATL60-BLBT02/1d/eNATL60-BLBT02_y2009m07d02.1d_somxl010.nc\n",
      "Index({DimIndex(name='time', index=2, sequence_len=365, operation=<CombineOp.CONCAT: 2>)})\n",
      "https://ige-meom-opendap.univ-grenoble-alpes.fr/thredds/fileServer/meomopendap/extract/eNATL60/eNATL60-BLBT02/1d/eNATL60-BLBT02_y2009m07d03.1d_somxl010.nc\n",
      "Index({DimIndex(name='time', index=3, sequence_len=365, operation=<CombineOp.CONCAT: 2>)})\n",
      "https://ige-meom-opendap.univ-grenoble-alpes.fr/thredds/fileServer/meomopendap/extract/eNATL60/eNATL60-BLBT02/1d/eNATL60-BLBT02_y2009m07d04.1d_somxl010.nc\n",
      "Index({DimIndex(name='time', index=4, sequence_len=365, operation=<CombineOp.CONCAT: 2>)})\n",
      "https://ige-meom-opendap.univ-grenoble-alpes.fr/thredds/fileServer/meomopendap/extract/eNATL60/eNATL60-BLBT02/1d/eNATL60-BLBT02_y2009m07d05.1d_somxl010.nc\n"
     ]
    }
   ],
   "source": [
    "for index, url in pattern.items():\n",
    "    print(index)\n",
    "    print(url)\n",
    "    # Stop after the 3rd filepath (September 3rd, 1981)\n",
    "    if 'y2009m07d05' in url:\n",
    "        break"
   ]
  },
  {
   "cell_type": "code",
   "execution_count": 11,
   "id": "29958224",
   "metadata": {},
   "outputs": [
    {
     "data": {
      "text/plain": [
       "XarrayZarrRecipe(file_pattern=<FilePattern {'time': 365}>, storage_config=StorageConfig(target=FSSpecTarget(fs=<fsspec.implementations.local.LocalFileSystem object at 0x7ff898bc61a0>, root_path='/tmp/tmplrepsb7m/v72yGbFZ'), cache=CacheFSSpecTarget(fs=<fsspec.implementations.local.LocalFileSystem object at 0x7ff898bc61a0>, root_path='/tmp/tmplrepsb7m/wErHzYkz'), metadata=MetadataTarget(fs=<fsspec.implementations.local.LocalFileSystem object at 0x7ff898bc61a0>, root_path='/tmp/tmplrepsb7m/bxUs5NeM')), inputs_per_chunk=1, target_chunks={'time_counter': 1, 'y': 1500}, cache_inputs=True, copy_input_to_local_file=False, consolidate_zarr=True, consolidate_dimension_coordinates=True, xarray_open_kwargs={}, xarray_concat_kwargs={}, delete_input_encoding=True, process_input=None, process_chunk=None, lock_timeout=None, subset_inputs={}, open_input_with_kerchunk=False)"
      ]
     },
     "execution_count": 11,
     "metadata": {},
     "output_type": "execute_result"
    }
   ],
   "source": [
    "target_chunks = {\"time_counter\": 1, \"y\": 1500}\n",
    "recipe = XarrayZarrRecipe(pattern, target_chunks=target_chunks)\n",
    "recipe"
   ]
  },
  {
   "cell_type": "code",
   "execution_count": 12,
   "id": "78e4b3cd",
   "metadata": {},
   "outputs": [],
   "source": [
    "setup_logging()"
   ]
  },
  {
   "cell_type": "code",
   "execution_count": 13,
   "id": "4f9ed433",
   "metadata": {},
   "outputs": [
    {
     "data": {
      "text/plain": [
       "<FilePattern {'time': 365}>"
      ]
     },
     "execution_count": 13,
     "metadata": {},
     "output_type": "execute_result"
    }
   ],
   "source": [
    "recipe.file_pattern"
   ]
  },
  {
   "cell_type": "code",
   "execution_count": 14,
   "id": "97cfeab0",
   "metadata": {},
   "outputs": [],
   "source": [
    "run_function = recipe.to_function()"
   ]
  },
  {
   "cell_type": "code",
   "execution_count": null,
   "id": "ea7609ef",
   "metadata": {},
   "outputs": [
    {
     "name": "stdout",
     "output_type": "stream",
     "text": [
      "pangeo_forge_recipes.recipes.xarray_zarr - INFO - Caching input 'Index({DimIndex(name='time', index=0, sequence_len=365, operation=<CombineOp.CONCAT: 2>)})'\n",
      "pangeo_forge_recipes.storage - INFO - Caching file 'https://ige-meom-opendap.univ-grenoble-alpes.fr/thredds/fileServer/meomopendap/extract/eNATL60/eNATL60-BLBT02/1d/eNATL60-BLBT02_y2009m07d01.1d_somxl010.nc'\n",
      "pangeo_forge_recipes.storage - INFO - Copying remote file 'https://ige-meom-opendap.univ-grenoble-alpes.fr/thredds/fileServer/meomopendap/extract/eNATL60/eNATL60-BLBT02/1d/eNATL60-BLBT02_y2009m07d01.1d_somxl010.nc' to cache\n"
     ]
    }
   ],
   "source": [
    "run_function()"
   ]
  },
  {
   "cell_type": "code",
   "execution_count": null,
   "id": "78124213",
   "metadata": {},
   "outputs": [],
   "source": [
    "mld_zarr_prune = xr.open_zarr(recipe.target_mapper, consolidated=True)\n",
    "mld_zarr_prune"
   ]
  },
  {
   "cell_type": "code",
   "execution_count": null,
   "id": "56098fae",
   "metadata": {},
   "outputs": [],
   "source": []
  }
 ],
 "metadata": {
  "kernelspec": {
   "display_name": "Python 3 (ipykernel)",
   "language": "python",
   "name": "python3"
  },
  "language_info": {
   "codemirror_mode": {
    "name": "ipython",
    "version": 3
   },
   "file_extension": ".py",
   "mimetype": "text/x-python",
   "name": "python",
   "nbconvert_exporter": "python",
   "pygments_lexer": "ipython3",
   "version": "3.10.4"
  }
 },
 "nbformat": 4,
 "nbformat_minor": 5
}
